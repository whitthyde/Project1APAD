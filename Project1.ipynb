{
 "cells": [
  {
   "cell_type": "markdown",
   "metadata": {},
   "source": [
    "# Project 1 : Whitt Hyde and Yunwei Yan"
   ]
  },
  {
   "cell_type": "markdown",
   "metadata": {},
   "source": [
    "## Setting Up Tables and Start Data:"
   ]
  },
  {
   "cell_type": "code",
   "execution_count": 39,
   "metadata": {},
   "outputs": [],
   "source": [
    "# Import sqlite3 module\n",
    "import sqlite3\n",
    "db=sqlite3.connect(\"/Users/whitthyde/desktop/APAD/Project/sqlite/db/projectdata.db\")\n",
    "cursor = db.cursor()\n",
    "\n",
    "#Create the Tables required for the Event Management System\n",
    "\n",
    "cursor.execute('''DROP TABLE Events''')\n",
    "cursor.execute('''\n",
    "\n",
    "    CREATE TABLE Events(EventID INTEGER PRIMARY KEY,Host TEXT, Name TEXT, Description TEXT, VenueID INTEGER, Day DATE,\n",
    "    Timeslot INTEGER , CurrentUsers INTEGER, MaxUsers INTEGER)\n",
    "    \n",
    "    ''')\n",
    "\n",
    "cursor.execute('''DROP TABLE Users''')\n",
    "cursor.execute('''\n",
    "\n",
    "    CREATE TABLE Users(UserID INTEGER PRIMARY KEY, Name TEXT, Permission BIT)\n",
    "    \n",
    "    ''')\n",
    "\n",
    "cursor.execute('''DROP TABLE Venues''')\n",
    "cursor.execute('''\n",
    "\n",
    "    CREATE TABLE Venues(VenueID INTEGER PRIMARY KEY, Name TEXT)\n",
    "    \n",
    "    ''')\n",
    "db.commit()"
   ]
  },
  {
   "cell_type": "code",
   "execution_count": 40,
   "metadata": {},
   "outputs": [],
   "source": [
    "#Inserting Test Data (Venues First) and other data\n",
    "import datetime\n",
    "vens = [(1,'UT Rec Sports'),\n",
    "          (2, 'SoccerCenter USA'),\n",
    "          (3, 'Yunwei Court'),\n",
    "          (4, 'Whitt Fields'),\n",
    "         ]\n",
    "cursor = db.cursor()\n",
    "cursor.executemany(''' INSERT INTO Venues(VenueID,Name) VALUES(?,?)''', vens)\n",
    "\n",
    "#insert Data Events\n",
    "\n",
    "evnts = [(1,'Chase','Thunder vs. Rockets','Soccer League Match of Austin Elite League', 2, datetime.date(2019, 8,1),1,22,22),\n",
    "         (2,'Whitt','Pickup Basketball (3 on 3)','Anyone welcome. Come play! All skill levels.', 3, datetime.date(2019, 8,5),2,3,6),\n",
    "         (3,'Yunwei','Tennis Doubles','EXPERTS ONLY', 3, datetime.date(2019, 8,1),2,22,22)]\n",
    "cursor.executemany(''' INSERT INTO Events(EventID,Host, Name, Description, VenueID, Day, Timeslot, CurrentUsers, MaxUsers) VALUES(?,?,?,?,?,?,?,?,?)''', evnts)\n",
    "\n",
    "#insert User Data\n",
    "usrs = [(1,'Admin', 1),\n",
    "        (2,'John', 0),\n",
    "        (3,'Chase', 0),\n",
    "        (4,'Whitt', 0),\n",
    "        (5,'Yunwei',1)]\n",
    "cursor.executemany(''' INSERT INTO USERS(UserID, Name, Permission) VALUES(?,?,?)''', usrs)\n",
    "db.commit()\n"
   ]
  },
  {
   "cell_type": "markdown",
   "metadata": {},
   "source": [
    "## UTILITY FUNCTIONS:"
   ]
  },
  {
   "cell_type": "markdown",
   "metadata": {},
   "source": [
    "### Function 2\n"
   ]
  },
  {
   "cell_type": "code",
   "execution_count": 15,
   "metadata": {},
   "outputs": [],
   "source": [
    "#Cell for function 2\n",
    "#CHECKED\n",
    "def add_venue(user,venname):\n",
    "    if user==1:\n",
    "        cursor = db.cursor()\n",
    "        #selecting the maxID from the table\n",
    "        cursor.execute(''' SELECT max(VenueID) FROM VENUES''')\n",
    "        maxID = cursor.fetchone() [0]\n",
    "        maxID+=1\n",
    "        cursor.execute(''' INSERT INTO Venues(VenueID,Name) VALUES(?,?)''', (maxID,venname,))\n",
    "        print(\"Your Venue\",venname, \"was created. It is now in the system\")\n",
    "    elif user==0:\n",
    "        print('User is not Authorized to create a new venue.')\n"
   ]
  },
  {
   "cell_type": "code",
   "execution_count": 42,
   "metadata": {},
   "outputs": [
    {
     "name": "stdout",
     "output_type": "stream",
     "text": [
      "Your Venue  SportsWorld5000  was created. It is now in the system\n"
     ]
    }
   ],
   "source": [
    "add_venue(1,\"SportsWorld5000\")\n"
   ]
  },
  {
   "cell_type": "code",
   "execution_count": 210,
   "metadata": {},
   "outputs": [
    {
     "name": "stdout",
     "output_type": "stream",
     "text": [
      "(1, 'UT Rec Sports')\n",
      "(2, 'SoccerCenter USA')\n",
      "(3, 'Yunwei Court')\n",
      "(4, 'Whitt Fields')\n",
      "(5, 'SportsWorld5000')\n"
     ]
    }
   ],
   "source": [
    "cursor.execute('''SELECT * FROM VENUES''')\n",
    "pl = cursor.fetchall() #retrieve the first row\n",
    "for x in pl:\n",
    "    print(x)"
   ]
  },
  {
   "cell_type": "markdown",
   "metadata": {},
   "source": [
    "### Function 1"
   ]
  },
  {
   "cell_type": "code",
   "execution_count": 36,
   "metadata": {},
   "outputs": [],
   "source": [
    "#The function will add a new user to the database   FUNCTION#1\n",
    "#CHECKED\n",
    "def Add_User(name,userstatus,permit=0):\n",
    "    if permit ==0:\n",
    "    \n",
    "        print('Sorry you have no access to create users.')\n",
    "    \n",
    "    elif permit ==1:\n",
    "          \n",
    "        cursor = db.cursor()\n",
    "        #selecting the maxID from the table\n",
    "        cursor.execute(''' SELECT max(UserID) FROM USERS''')\n",
    "        maxID = cursor.fetchone() [0]\n",
    "        maxID+=1\n",
    "        cursor.execute('''INSERT INTO USERS(USERID,NAME,PERMISSION) VALUES (?,?,?)''',(maxID,name,userstatus))\n",
    "        db.commit()\n",
    "        print(\"The User\",name, \"was created. It is now in the system\")\n",
    "\n"
   ]
  },
  {
   "cell_type": "code",
   "execution_count": 43,
   "metadata": {},
   "outputs": [
    {
     "name": "stdout",
     "output_type": "stream",
     "text": [
      "The User Dr. Y was created. It is now in the system\n"
     ]
    }
   ],
   "source": [
    "Add_User(\"Dr. Y\",0,1)"
   ]
  },
  {
   "cell_type": "code",
   "execution_count": 211,
   "metadata": {},
   "outputs": [
    {
     "name": "stdout",
     "output_type": "stream",
     "text": [
      "(1, 'Admin', 1)\n",
      "(2, 'John', 0)\n",
      "(3, 'Chase', 0)\n",
      "(4, 'Whitt', 0)\n",
      "(5, 'Yunwei', 1)\n",
      "(6, 'Dr. Y', 0)\n"
     ]
    }
   ],
   "source": [
    "cursor.execute('''SELECT * FROM USERS''')\n",
    "pl = cursor.fetchall() #retrieve the first row\n",
    "for x in pl:\n",
    "    print(x)"
   ]
  },
  {
   "cell_type": "markdown",
   "metadata": {},
   "source": [
    "### Function 3"
   ]
  },
  {
   "cell_type": "code",
   "execution_count": 201,
   "metadata": {},
   "outputs": [],
   "source": [
    "#The function will start a new event to the database   FUNCTION#3\n",
    "\n",
    "def event_init(userstatus,username,evnName,evnDes, evnVID,evnDate,evnTime,evnCurr,evnMax):\n",
    "    if userstatus == 1:\n",
    "        username = input(\"Hello Admin, please enter the User's name that is creating the Event: \")\n",
    "    Start_Event(username,evnName,evnDes, evnVID,evnDate,evnTime,evnCurr,evnMax)\n",
    "\n",
    "\n",
    "\n",
    "#EventID,Name, Description, VenueID, Day, Timeslot, CurrentUsers, MaxUsers\n",
    "def Start_Event(host, name, des,vID, date, time,currU, maxU):\n",
    "    cursor = db.cursor()\n",
    "    cursor.execute('''SELECT * FROM Events WHERE Day=?''', (date,))\n",
    "    events_on_day = cursor.fetchall()\n",
    "    if events_on_day:\n",
    "        sametime = False\n",
    "        for x in events_on_day:\n",
    "            if x[6]==time:\n",
    "                print('That timeslot has already been taken. Please select a different timeslot or choose another venue.')\n",
    "                sametime = True\n",
    "        if not sametime:\n",
    "            #selecting the maxID from the table\n",
    "            cursor.execute(''' SELECT max(EventID) FROM Events''')\n",
    "            maxID = cursor.fetchone() [0]\n",
    "            maxID+=1\n",
    "            cursor.execute('''INSERT INTO Events(EventID,Host,Name, Description, VenueID, Day, Timeslot, CurrentUsers, MaxUsers) VALUES (?,?,?,?,?,?,?,?,?)''',(maxID,host, name, des,vID, date, time,currU, maxU))\n",
    "            db.commit()\n",
    "            print(\"The Event\",name, \"was created.\",host,\"is hosting. It is now in the system\")\n",
    "    else:\n",
    "        #selecting the maxID from the table\n",
    "        cursor.execute(''' SELECT max(EventID) FROM Events''')\n",
    "        maxID = cursor.fetchone() [0]\n",
    "        maxID+=1\n",
    "        cursor.execute('''INSERT INTO Events(EventID,Host,Name, Description, VenueID, Day, Timeslot, CurrentUsers, MaxUsers) VALUES (?,?,?,?,?,?,?,?,?)''',(maxID,host, name, des,vID, date, time,currU, maxU))\n",
    "        db.commit()\n",
    "        print(\"The Event\",name, \"was created.\",host,\"is hosting. It is now in the system\")\n",
    "    \n",
    "    "
   ]
  },
  {
   "cell_type": "code",
   "execution_count": 203,
   "metadata": {},
   "outputs": [
    {
     "name": "stdout",
     "output_type": "stream",
     "text": [
      "That timeslot has already been taken. Please select a different timeslot or choose another venue.\n"
     ]
    }
   ],
   "source": [
    "event_init(0,\"Yunwei\",\"Programming HACKS Part 6\",\"HACKING TWITTER!\",1,datetime.date(2020, 9, 9),11,1,25)"
   ]
  },
  {
   "cell_type": "code",
   "execution_count": 212,
   "metadata": {},
   "outputs": [
    {
     "name": "stdout",
     "output_type": "stream",
     "text": [
      "(1, 'Chase', 'Thunder vs. Rockets', 'Soccer League Match of Austin Elite League', 2, '2019-08-01', 2, 22, 22)\n",
      "(2, 'Whitt', 'Pickup Basketball (3 on 3)', 'Anyone welcome. Come play! All skill levels.', 3, '2019-08-05', 2, 3, 6)\n",
      "(3, 'Yunwei', 'Tennis Doubles', 'EXPERTS ONLY', 3, '2019-08-01', 2, 22, 22)\n",
      "(4, 'Yunwei', 'Programming MeetUp', 'Learn PHP TODAY!', 1, '2020-05-17 00:00:00', 2, 1, 25)\n",
      "(5, 'Whitt', 'Programming MeetUp', 'Learn PHP TODAY!', 1, '2020-09-09', 2, 1, 25)\n",
      "(6, 'Yunwei', 'Programming HACKS Part 5', 'HACKING TWITTER!', 1, '2020-12-31', 3, 1, 25)\n",
      "(7, 'Yunwei', 'Programming HACKS Part 6', 'HACKING TWITTER!', 1, '2020-09-09', 11, 1, 25)\n"
     ]
    }
   ],
   "source": [
    "cursor.execute('''SELECT * FROM EVENTS''')\n",
    "pl = cursor.fetchall() #retrieve the first row\n",
    "for x in pl:\n",
    "    print(x)"
   ]
  },
  {
   "cell_type": "markdown",
   "metadata": {},
   "source": [
    "### Function 4"
   ]
  },
  {
   "cell_type": "code",
   "execution_count": 178,
   "metadata": {},
   "outputs": [],
   "source": [
    "#Display time available at a venue   FUNCTION#4\n",
    "#CHECKED\n",
    "def Display_Time(vue,date):\n",
    "    #getting all the times for certain day and venue\n",
    "    cursor.execute('''SELECT * FROM EVENTS WHERE VenueID=? AND Day=?''',(vue,date,))\n",
    "    listevnts = cursor.fetchall() \n",
    "    \n",
    "    times_used = []\n",
    "    #extracting timeslots from the list of events, then adding them to a list of times used\n",
    "    for evnt in listevnts:\n",
    "        times_used.append(evnt[6])\n",
    "    \n",
    "    \n",
    "    available_time = [0,1,2,3,4,5,6,7,8,9,10,11]\n",
    "    for x in times_used:\n",
    "        if x in available_time:\n",
    "            available_time.remove(x)\n",
    "    print(\"AVAILABLE TIMES:\")\n",
    "    print(\"\")\n",
    "    for times in available_time:\n",
    "        if times==0:\n",
    "            print(\"8:00AM - 9:00AM Available\")\n",
    "        if times==1:\n",
    "            print(\"9:00AM - 10:00AM Available\")\n",
    "        if times==2:\n",
    "            print(\"10:00AM - 11:00AM Available\")\n",
    "        if times==3:\n",
    "            print(\"11:00AM - 12:00PM Available\")\n",
    "        if times==4:\n",
    "            print(\"12:00PM - 1:00PM Available\")\n",
    "        if times==5:\n",
    "            print(\"1:00PM - 2:00PM Available\")\n",
    "        if times==6:\n",
    "            print(\"2:00PM - 3:00PM Available\")\n",
    "        if times==7:\n",
    "            print(\"3:00PM - 4:00PM Available\")\n",
    "        if times==8:\n",
    "            print(\"4:00PM - 5:00PM Available\")\n",
    "        if times==9:\n",
    "            print(\"5:00PM - 6:00PM Available\")\n",
    "        if times==10:\n",
    "            print(\"6:00PM - 7:00PM Available\")\n",
    "        if times==11:\n",
    "            print(\"7:00PM - 8:00PM Available\")"
   ]
  },
  {
   "cell_type": "code",
   "execution_count": 179,
   "metadata": {},
   "outputs": [
    {
     "name": "stdout",
     "output_type": "stream",
     "text": [
      "AVAILABLE TIMES:\n",
      "\n",
      "8:00AM - 9:00AM Available\n",
      "9:00AM - 10:00AM Available\n",
      "11:00AM - 12:00PM Available\n",
      "12:00PM - 1:00PM Available\n",
      "1:00PM - 2:00PM Available\n",
      "2:00PM - 3:00PM Available\n",
      "3:00PM - 4:00PM Available\n",
      "4:00PM - 5:00PM Available\n",
      "5:00PM - 6:00PM Available\n",
      "6:00PM - 7:00PM Available\n",
      "7:00PM - 8:00PM Available\n"
     ]
    }
   ],
   "source": [
    "Display_Time(1,datetime.date(2020, 9, 9))"
   ]
  },
  {
   "cell_type": "markdown",
   "metadata": {},
   "source": [
    "### Function 5"
   ]
  },
  {
   "cell_type": "code",
   "execution_count": 154,
   "metadata": {},
   "outputs": [],
   "source": [
    "#Display all venues where a time is available   FUNCTION#5\n",
    "#CHECKED\n",
    "def Display_Venue(date,time):\n",
    "    cursor.execute('''SELECT * FROM EVENTS  WHERE TIMESLOT=? AND DAY=?''',(time,date))\n",
    "    listevnts = cursor.fetchall() \n",
    "    \n",
    "    venues_used = []\n",
    "    #extracting timeslots from the list of events, then adding them to a list of times used\n",
    "    for evnt in listevnts:\n",
    "        venues_used.append(evnt[4])\n",
    "    \n",
    "    cursor.execute('''SELECT * FROM VENUES ''')\n",
    "    allvenues = cursor.fetchall()\n",
    "    \n",
    "    available_venues = []\n",
    "    \n",
    "    for ven in allvenues:\n",
    "        available_venues.append(ven)\n",
    "\n",
    "    for venue in allvenues:\n",
    "        if venue[0] in venues_used:\n",
    "            available_venues.remove(venue)\n",
    "\n",
    "    if time==0:\n",
    "        timeslot = \"8:00AM - 9:00AM\"\n",
    "    if time==1:\n",
    "        timeslot = \"9:00AM - 10:00AM\"\n",
    "    if time==2:\n",
    "        timeslot = \"11:00AM - 12:00AM\"\n",
    "    if time==3:\n",
    "        timeslot = \"12:00AM - 1:00AM\"\n",
    "    if time==4:\n",
    "        timeslot = \"1:00AM - 2:00AM\"\n",
    "    if time==5:\n",
    "        timeslot = \"2:00AM - 3:00AM\"\n",
    "    if time==6:\n",
    "        timeslot = \"3:00AM - 4:00AM\"\n",
    "    if time==7:\n",
    "        timeslot = \"4:00AM - 5:00AM\"\n",
    "    if time==8:\n",
    "        timeslot = \"5:00AM - 6:00AM\"\n",
    "    if time==9:\n",
    "        timeslot = \"6:00AM - 7:00AM\"\n",
    "    if time==10:\n",
    "        timeslot = \"7:00AM - 8:00AM\"\n",
    "    if time==11:\n",
    "        timeslot = \"8:00AM - 9:00AM\" \n",
    "    \n",
    "    print(\"Available Venues for\",timeslot,\"on\",date)\n",
    "    print(\"\")\n",
    "    for pl in available_venues:\n",
    "         print(pl[1])"
   ]
  },
  {
   "cell_type": "code",
   "execution_count": 155,
   "metadata": {},
   "outputs": [
    {
     "name": "stdout",
     "output_type": "stream",
     "text": [
      "Available Venues for 11:00AM - 12:00AM on 2020-09-09\n",
      "\n",
      "SoccerCenter USA\n",
      "Yunwei Court\n",
      "Whitt Fields\n",
      "SportsWorld5000\n"
     ]
    }
   ],
   "source": [
    "Display_Venue(datetime.date(2020, 9, 9),2)"
   ]
  },
  {
   "cell_type": "markdown",
   "metadata": {},
   "source": [
    "### Function 6"
   ]
  },
  {
   "cell_type": "code",
   "execution_count": 151,
   "metadata": {},
   "outputs": [],
   "source": [
    "#Display events at one venue when date and time are given    FUNCTION#6\n",
    "#CHECKED\n",
    "def Display_Event(date,time,vueID):\n",
    "    \n",
    "    \n",
    "     cursor.execute('''SELECT * FROM EVENTS WHERE VenueID=? AND DAY=? AND TIMESLOT=?''',(vueID,date,time,))\n",
    "     listtimeslot = cursor.fetchall()\n",
    "     for pl in listtimeslot:\n",
    "         print(pl)\n",
    "    \n",
    "    \n",
    "    \n",
    "    \n",
    "    \n",
    "#      cursor.execute('''SELECT * FROM EVENTS WHERE TIMESLOT=? AND DAY=? AND VenueID=?''',(date,time,vueID,))\n",
    "#      listevents = cursor.fetchall()\n",
    "#      for pl in listevents:\n",
    "#          print(pl)"
   ]
  },
  {
   "cell_type": "code",
   "execution_count": 153,
   "metadata": {},
   "outputs": [
    {
     "name": "stdout",
     "output_type": "stream",
     "text": [
      "(3, 'Yunwei', 'Tennis Doubles', 'EXPERTS ONLY', 3, '2019-08-01', 2, 22, 22)\n"
     ]
    }
   ],
   "source": [
    "Display_Event(datetime.date(2019, 8, 1),2,3)"
   ]
  },
  {
   "cell_type": "code",
   "execution_count": 214,
   "metadata": {},
   "outputs": [
    {
     "name": "stdout",
     "output_type": "stream",
     "text": [
      "(1, 'Chase', 'Thunder vs. Rockets', 'Soccer League Match of Austin Elite League', 2, '2019-08-01', 2, 22, 22)\n",
      "(2, 'Whitt', 'Pickup Basketball (3 on 3)', 'Anyone welcome. Come play! All skill levels.', 3, '2019-08-05', 2, 3, 6)\n",
      "(3, 'Yunwei', 'Tennis Doubles', 'EXPERTS ONLY', 3, '2019-08-01', 2, 22, 22)\n",
      "(4, 'Yunwei', 'Programming MeetUp', 'Learn PHP TODAY!', 1, '2020-05-17 00:00:00', 2, 1, 25)\n",
      "(5, 'Whitt', 'Programming MeetUp', 'Learn PHP TODAY!', 1, '2020-09-09', 2, 1, 25)\n",
      "(6, 'Yunwei', 'Programming HACKS Part 5', 'HACKING TWITTER!', 1, '2020-12-31', 3, 1, 25)\n",
      "(7, 'Yunwei', 'Programming HACKS Part 6', 'HACKING TWITTER!', 1, '2020-09-09', 11, 1, 25)\n"
     ]
    }
   ],
   "source": [
    "cursor.execute('''SELECT * FROM EVENTS''')\n",
    "pl = cursor.fetchall() #retrieve the first row\n",
    "for x in pl:\n",
    "    print(x)"
   ]
  },
  {
   "cell_type": "markdown",
   "metadata": {},
   "source": [
    "### Function 7"
   ]
  },
  {
   "cell_type": "code",
   "execution_count": 238,
   "metadata": {},
   "outputs": [],
   "source": [
    "#User joins an event FUNCTION #7\n",
    "def User_JoinEvent(userID,evnID,permit=1):\n",
    "    if permit==1:\n",
    "        print(\"Sorry only users can join events. Please create a User account instead of Admin to join.\")\n",
    "    elif permit == 0:\n",
    "        cursor = db.cursor()\n",
    "        #selecting the maxID from the table\n",
    "        cursor.execute('''SELECT CurrentUsers, MaxUsers FROM EVENTS WHERE EventID=?''',(evnID,))\n",
    "        test = cursor.fetchone()\n",
    "        event_capacity = test[1]\n",
    "        event_current = test[0]\n",
    "        if event_current >= event_capacity:\n",
    "            print(\"Sorry this event is already full. Please choose another.\")\n",
    "        elif event_current < event_capacity:\n",
    "            cursor.execute(''' SELECT * FROM EVENTS WHERE EventID=?''',(evnID,))\n",
    "            c_users = cursor.fetchone()[7]\n",
    "            c_users += 1\n",
    "            \n",
    "            cursor.execute('''UPDATE EVENTS SET CurrentUsers = ? WHERE EventID=?''', (c_users,evnID,)) \n",
    "            db.commit()\n",
    "\n",
    "        "
   ]
  },
  {
   "cell_type": "code",
   "execution_count": 240,
   "metadata": {},
   "outputs": [
    {
     "name": "stdout",
     "output_type": "stream",
     "text": [
      "(3, 6)\n"
     ]
    }
   ],
   "source": [
    "User_JoinEvent(2,2,0)"
   ]
  },
  {
   "cell_type": "code",
   "execution_count": 241,
   "metadata": {},
   "outputs": [
    {
     "name": "stdout",
     "output_type": "stream",
     "text": [
      "(1, 'Chase', 'Thunder vs. Rockets', 'Soccer League Match of Austin Elite League', 2, '2019-08-01', 2, 22, 22)\n",
      "(2, 'Whitt', 'Pickup Basketball (3 on 3)', 'Anyone welcome. Come play! All skill levels.', 3, '2019-08-05', 2, 4, 6)\n",
      "(3, 'Yunwei', 'Tennis Doubles', 'EXPERTS ONLY', 3, '2019-08-01', 2, 22, 22)\n",
      "(4, 'Yunwei', 'Programming MeetUp', 'Learn PHP TODAY!', 1, '2020-05-17 00:00:00', 2, 1, 25)\n",
      "(5, 'Whitt', 'Programming MeetUp', 'Learn PHP TODAY!', 1, '2020-09-09', 2, 1, 25)\n",
      "(6, 'Yunwei', 'Programming HACKS Part 5', 'HACKING TWITTER!', 1, '2020-12-31', 3, 1, 25)\n",
      "(7, 'Yunwei', 'Programming HACKS Part 6', 'HACKING TWITTER!', 1, '2020-09-09', 11, 1, 25)\n"
     ]
    }
   ],
   "source": [
    "cursor.execute('''SELECT NAME, CURENTUSERS, MAXUSE FROM EVENTS''')\n",
    "pl = cursor.fetchall() #retrieve the first row\n",
    "for x in pl:\n",
    "    print(x)"
   ]
  },
  {
   "cell_type": "markdown",
   "metadata": {},
   "source": [
    "### Function 9\n"
   ]
  },
  {
   "cell_type": "code",
   "execution_count": 236,
   "metadata": {},
   "outputs": [],
   "source": [
    "#Remove an event FUNCTION#9\n",
    "#CHECKED\n",
    "def Remove_Event(eid, permit=0):\n",
    "    if permit==0:\n",
    "        print('Sorry you have no access')\n",
    "    \n",
    "    elif permit ==1:\n",
    "        cursor.execute('''SELECT Name FROM Events WHERE eventID=?''',(eid,))\n",
    "        removed_event = cursor.fetchone()[0]\n",
    "        \n",
    "        cursor.execute('''DELETE FROM EVENTS WHERE EVENTID=?''',(eid,))\n",
    "        db.commit()\n",
    "        print(\"The Event:\",removed_event,\"was Removed.\")\n",
    "    "
   ]
  },
  {
   "cell_type": "code",
   "execution_count": 237,
   "metadata": {},
   "outputs": [
    {
     "name": "stdout",
     "output_type": "stream",
     "text": [
      "Programming HACKS Part 5\n",
      "The Event: Programming HACKS Part 5 was Removed.\n"
     ]
    }
   ],
   "source": [
    "Remove_Event(6,1)"
   ]
  },
  {
   "cell_type": "code",
   "execution_count": null,
   "metadata": {},
   "outputs": [],
   "source": [
    "cursor.execute('''SELECT * FROM EVENTS''')\n",
    "pl = cursor.fetchall() #retrieve the first row\n",
    "for x in pl:\n",
    "    print(x)"
   ]
  }
 ],
 "metadata": {
  "kernelspec": {
   "display_name": "Python 3",
   "language": "python",
   "name": "python3"
  },
  "language_info": {
   "codemirror_mode": {
    "name": "ipython",
    "version": 3
   },
   "file_extension": ".py",
   "mimetype": "text/x-python",
   "name": "python",
   "nbconvert_exporter": "python",
   "pygments_lexer": "ipython3",
   "version": "3.7.3"
  }
 },
 "nbformat": 4,
 "nbformat_minor": 2
}
