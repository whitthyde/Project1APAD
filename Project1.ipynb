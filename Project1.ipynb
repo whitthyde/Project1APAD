{
 "cells": [
  {
   "cell_type": "code",
   "execution_count": 17,
   "metadata": {},
   "outputs": [],
   "source": [
    "# Import sqlite3 module\n",
    "import sqlite3\n",
    "db=sqlite3.connect(\"/Users/whitthyde/desktop/APAD/Project/sqlite/db/projectdata.db\")\n",
    "cursor = db.cursor()\n",
    "\n",
    "#Create the Tables required for the Event Management System\n",
    "\n",
    "cursor.execute('''DROP TABLE Events''')\n",
    "cursor.execute('''\n",
    "\n",
    "    CREATE TABLE Events(EventID INTEGER PRIMARY KEY, Name TEXT, Description TEXT, VenueID INTEGER, Day DATE,\n",
    "    Timeslot INTEGER , CurrentUsers INTEGER, MaxUsers INTEGER)\n",
    "    \n",
    "    ''')\n",
    "\n",
    "cursor.execute('''DROP TABLE Users''')\n",
    "cursor.execute('''\n",
    "\n",
    "    CREATE TABLE Users(UserID INTEGER PRIMARY KEY, Name TEXT, Permission BIT)\n",
    "    \n",
    "    ''')\n",
    "\n",
    "cursor.execute('''DROP TABLE Venues''')\n",
    "cursor.execute('''\n",
    "\n",
    "    CREATE TABLE Venues(VenueID INTEGER PRIMARY KEY, Name TEXT)\n",
    "    \n",
    "    ''')\n",
    "db.commit()"
   ]
  },
  {
   "cell_type": "code",
   "execution_count": 20,
   "metadata": {},
   "outputs": [],
   "source": [
    "#Inserting Test Data (Venues First) and other data\n",
    "import datetime\n",
    "vens = [(1,'UT Rec Sports'),\n",
    "          (2, 'SoccerCenter USA'),\n",
    "          (3, 'Yunwei Court'),\n",
    "          (4, 'Whitt Fields'),\n",
    "         ]\n",
    "cursor = db.cursor()\n",
    "cursor.executemany(''' INSERT INTO Venues(VenueID,Name) VALUES(?,?)''', vens)\n",
    "\n",
    "#insert Data Events\n",
    "\n",
    "evnts = [(1,'Thunder vs. Rockets','Soccer League Match of Austin Elite League', 2, datetime.date(2019, 8,1),2,22,22),\n",
    "         (2,'Pickup Basketball (3 on 3)','Anyone welcome. Come play! All skill levels.', 3, datetime.date(2019, 8,5),2,3,6),\n",
    "         (3,'Tennis Doubles','EXPERTS ONLY', 3, datetime.date(2019, 8,1),2,22,22)]\n",
    "cursor.executemany(''' INSERT INTO Events(EventID,Name, Description, VenueID, Day, Timeslot, CurrentUsers, MaxUsers) VALUES(?,?,?,?,?,?,?,?)''', evnts)\n",
    "\n",
    "#insert User Data\n",
    "usrs = [(1,'Admin', 1),\n",
    "        (2,'John', 0),\n",
    "        (3,'Chase', 0),\n",
    "        (4,'Whitt', 0),\n",
    "        (5,'Yunwei',1)]\n",
    "cursor.executemany(''' INSERT INTO USERS(UserID, Name, Permission) VALUES(?,?,?)''', usrs)\n",
    "db.commit()\n"
   ]
  },
  {
   "cell_type": "code",
   "execution_count": 63,
   "metadata": {},
   "outputs": [],
   "source": [
    "#Cell for function 2\n",
    "def add_venue(user,venname):\n",
    "    if user==1:\n",
    "        cursor = db.cursor()\n",
    "        #selecting the maxID from the table\n",
    "        cursor.execute(''' SELECT max(VenueID) FROM VENUES''')\n",
    "        maxID = cursor.fetchone() [0]\n",
    "        maxID+=1\n",
    "        cursor.executemany(''' INSERT INTO Venues(VenueID,Name) VALUES(?,?)''', (maxID,venname))\n",
    "        print(\"Your Venue \",venname, \" was created. It is now in the system\")\n",
    "    elif user==0:\n",
    "        print('User is not Authorized to create a new venue.')\n"
   ]
  },
  {
   "cell_type": "code",
   "execution_count": 64,
   "metadata": {},
   "outputs": [
    {
     "ename": "ValueError",
     "evalue": "parameters are of unsupported type",
     "output_type": "error",
     "traceback": [
      "\u001b[0;31m---------------------------------------------------------------------------\u001b[0m",
      "\u001b[0;31mValueError\u001b[0m                                Traceback (most recent call last)",
      "\u001b[0;32m<ipython-input-64-4be60aaff517>\u001b[0m in \u001b[0;36m<module>\u001b[0;34m\u001b[0m\n\u001b[0;32m----> 1\u001b[0;31m \u001b[0madd_venue\u001b[0m\u001b[0;34m(\u001b[0m\u001b[0;36m1\u001b[0m\u001b[0;34m,\u001b[0m\u001b[0;34m\"SportsWorld5000\"\u001b[0m\u001b[0;34m)\u001b[0m\u001b[0;34m\u001b[0m\u001b[0;34m\u001b[0m\u001b[0m\n\u001b[0m",
      "\u001b[0;32m<ipython-input-63-30f38aa686fc>\u001b[0m in \u001b[0;36madd_venue\u001b[0;34m(user, venname)\u001b[0m\n\u001b[1;32m      7\u001b[0m         \u001b[0mmaxID\u001b[0m \u001b[0;34m=\u001b[0m \u001b[0mcursor\u001b[0m\u001b[0;34m.\u001b[0m\u001b[0mfetchone\u001b[0m\u001b[0;34m(\u001b[0m\u001b[0;34m)\u001b[0m \u001b[0;34m[\u001b[0m\u001b[0;36m0\u001b[0m\u001b[0;34m]\u001b[0m\u001b[0;34m\u001b[0m\u001b[0;34m\u001b[0m\u001b[0m\n\u001b[1;32m      8\u001b[0m         \u001b[0mmaxID\u001b[0m\u001b[0;34m+=\u001b[0m\u001b[0;36m1\u001b[0m\u001b[0;34m\u001b[0m\u001b[0;34m\u001b[0m\u001b[0m\n\u001b[0;32m----> 9\u001b[0;31m         \u001b[0mcursor\u001b[0m\u001b[0;34m.\u001b[0m\u001b[0mexecutemany\u001b[0m\u001b[0;34m(\u001b[0m\u001b[0;34m''' INSERT INTO Venues(VenueID,Name) VALUES(?,?)'''\u001b[0m\u001b[0;34m,\u001b[0m \u001b[0;34m(\u001b[0m\u001b[0mmaxID\u001b[0m\u001b[0;34m,\u001b[0m\u001b[0mvenname\u001b[0m\u001b[0;34m)\u001b[0m\u001b[0;34m)\u001b[0m\u001b[0;34m\u001b[0m\u001b[0;34m\u001b[0m\u001b[0m\n\u001b[0m\u001b[1;32m     10\u001b[0m         \u001b[0mprint\u001b[0m\u001b[0;34m(\u001b[0m\u001b[0;34m\"Your Venue \"\u001b[0m\u001b[0;34m,\u001b[0m\u001b[0mvenname\u001b[0m\u001b[0;34m,\u001b[0m \u001b[0;34m\" was created. It is now in the system\"\u001b[0m\u001b[0;34m)\u001b[0m\u001b[0;34m\u001b[0m\u001b[0;34m\u001b[0m\u001b[0m\n\u001b[1;32m     11\u001b[0m     \u001b[0;32melif\u001b[0m \u001b[0muser\u001b[0m\u001b[0;34m==\u001b[0m\u001b[0;36m0\u001b[0m\u001b[0;34m:\u001b[0m\u001b[0;34m\u001b[0m\u001b[0;34m\u001b[0m\u001b[0m\n",
      "\u001b[0;31mValueError\u001b[0m: parameters are of unsupported type"
     ]
    }
   ],
   "source": [
    "add_venue(1,\"SportsWorld5000\")"
   ]
  },
  {
   "cell_type": "code",
   "execution_count": null,
   "metadata": {},
   "outputs": [],
   "source": [
    "dfadsgnb"
   ]
  },
  {
   "cell_type": "code",
   "execution_count": null,
   "metadata": {},
   "outputs": [],
   "source": []
  }
 ],
 "metadata": {
  "kernelspec": {
   "display_name": "Python 3",
   "language": "python",
   "name": "python3"
  },
  "language_info": {
   "codemirror_mode": {
    "name": "ipython",
    "version": 3
   },
   "file_extension": ".py",
   "mimetype": "text/x-python",
   "name": "python",
   "nbconvert_exporter": "python",
   "pygments_lexer": "ipython3",
   "version": "3.7.3"
  }
 },
 "nbformat": 4,
 "nbformat_minor": 2
}
