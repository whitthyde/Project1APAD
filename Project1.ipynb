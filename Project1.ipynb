{
 "cells": [
  {
   "cell_type": "code",
   "execution_count": 3,
   "metadata": {},
   "outputs": [],
   "source": [
    "# Import sqlite3 module\n",
    "import sqlite3\n",
    "db=sqlite3.connect(\"/Users/whitthyde/desktop/APAD/Project/sqlite/db/projectdata.db\")\n",
    "cursor = db.cursor()\n",
    "\n",
    "#Create the Tables required for the Event Management System\n",
    "\n",
    "cursor.execute('''DROP TABLE Events''')\n",
    "cursor.execute('''\n",
    "\n",
    "    CREATE TABLE Events(EventID INTEGER PRIMARY KEY, Name TEXT, Description TEXT, VenueID INTEGER, Day DATE,\n",
    "    Timeslot INTEGER , CurrentUsers INTEGER, MaxUsers INTEGER)\n",
    "    \n",
    "    ''')\n",
    "\n",
    "cursor.execute('''DROP TABLE Users''')\n",
    "cursor.execute('''\n",
    "\n",
    "    CREATE TABLE Users(UserID INTEGER PRIMARY KEY, Name TEXT, Permission BIT)\n",
    "    \n",
    "    ''')\n",
    "\n",
    "cursor.execute('''DROP TABLE Venues''')\n",
    "cursor.execute('''\n",
    "\n",
    "    CREATE TABLE Venues(VenueID INTEGER PRIMARY KEY, Name TEXT)\n",
    "    \n",
    "    ''')\n",
    "db.commit()"
   ]
  },
  {
   "cell_type": "code",
   "execution_count": 8,
   "metadata": {},
   "outputs": [],
   "source": [
    "#Inserting Test Data (Venues First) and other data\n",
    "import datetime\n",
    "vens = [(1,'UT Rec Sports'),\n",
    "          (2, 'SoccerCenter USA'),\n",
    "          (3, 'Yunwei Court'),\n",
    "          (4, 'Whitt Fields'),\n",
    "         ]\n",
    "cursor = db.cursor()\n",
    "cursor.executemany(''' INSERT INTO Venues(VenueID,Name) VALUES(?,?)''', vens)\n",
    "\n",
    "#insert Data Events\n",
    "\n",
    "evnts = [(1,'Thunder vs. Rockets','Soccer League Match of Austin Elite League', 2, datetime.date(2019, 8,1),2,22,22),\n",
    "         (2,'Pickup Basketball (3 on 3)','Anyone welcome. Come play! All skill levels.', 3, datetime.date(2019, 8,5),2,3,6),\n",
    "         (3,'Tennis Doubles','EXPERTS ONLY', 3, datetime.date(2019, 8,1),2,22,22)]\n",
    "cursor.executemany(''' INSERT INTO Events(EventID,Name, Description, VenueID, Day, Timeslot, CurrentUsers, MaxUsers) VALUES(?,?,?,?,?,?,?,?)''', evnts)\n",
    "\n",
    "#insert User Data\n",
    "usrs = [(1,'Admin', 1),\n",
    "        (2,'John', 0),\n",
    "        (3,'Chase', 0),\n",
    "        (4,'Whitt', 0),\n",
    "        (5,'Yunwei',1)]\n",
    "cursor.executemany(''' INSERT INTO USERS(UserID, Name, Permission) VALUES(?,?,?)''', usrs)\n",
    "db.commit()\n"
   ]
  },
  {
   "cell_type": "code",
   "execution_count": 15,
   "metadata": {},
   "outputs": [],
   "source": [
    "#Cell for function 2\n",
    "def add_venue(user,venname):\n",
    "    if user==1:\n",
    "        cursor = db.cursor()\n",
    "        #selecting the maxID from the table\n",
    "        cursor.execute(''' SELECT max(VenueID) FROM VENUES''')\n",
    "        maxID = cursor.fetchone() [0]\n",
    "        maxID+=1\n",
    "        cursor.execute(''' INSERT INTO Venues(VenueID,Name) VALUES(?,?)''', (maxID,venname,))\n",
    "        print(\"Your Venue\",venname, \"was created. It is now in the system\")\n",
    "    elif user==0:\n",
    "        print('User is not Authorized to create a new venue.')\n"
   ]
  },
  {
   "cell_type": "code",
   "execution_count": 16,
   "metadata": {},
   "outputs": [
    {
     "name": "stdout",
     "output_type": "stream",
     "text": [
      "Your Venue  SportsWorld5000  was created. It is now in the system\n"
     ]
    }
   ],
   "source": [
    "add_venue(1,\"SportsWorld5000\")\n"
   ]
  },
  {
   "cell_type": "code",
   "execution_count": 18,
   "metadata": {},
   "outputs": [
    {
     "name": "stdout",
     "output_type": "stream",
     "text": [
      "[(1, 'UT Rec Sports'), (2, 'SoccerCenter USA'), (3, 'Yunwei Court'), (4, 'Whitt Fields'), (5, 'SportsWorld5000')]\n"
     ]
    }
   ],
   "source": [
    "cursor.execute('''SELECT * FROM VENUES''')\n",
    "p1 = cursor.fetchall() #retrieve the first row\n",
    "print(p1)"
   ]
  },
  {
   "cell_type": "code",
   "execution_count": 1,
   "metadata": {},
   "outputs": [
    {
     "ename": "SyntaxError",
     "evalue": "invalid syntax (<ipython-input-1-59a0f74d84eb>, line 3)",
     "output_type": "error",
     "traceback": [
      "\u001b[0;36m  File \u001b[0;32m\"<ipython-input-1-59a0f74d84eb>\"\u001b[0;36m, line \u001b[0;32m3\u001b[0m\n\u001b[0;31m    if (permit ==0)\u001b[0m\n\u001b[0m                   ^\u001b[0m\n\u001b[0;31mSyntaxError\u001b[0m\u001b[0;31m:\u001b[0m invalid syntax\n"
     ]
    }
   ],
   "source": [
    "#The function will add a new user to the database   FUNCTION#1\n",
    "def Add_User(permit=0):\n",
    "    if (permit ==0)\n",
    "    {\n",
    "        print('Sorry you have no access')\n",
    "    }\n",
    "    elif (permit ==1){\n",
    "        print('Enter New User ID:')\n",
    "        x = input()\n",
    "        print('Enter New User Name:')\n",
    "        y = input()\n",
    "        cursor.execute('''INSERT INTO USER(USERID,USERNAME) VALUES (x,y)''')\n",
    "        db.commit()\n",
    "    }\n"
   ]
  },
  {
   "cell_type": "code",
   "execution_count": null,
   "metadata": {},
   "outputs": [],
   "source": [
    "#The function will start a new event to the database   FUNCTION#3\n",
    "def Start_Event():\n",
    "    print('Enter Your ID:')\n",
    "    x = input()\n",
    "    print('Enter Event Name:')\n",
    "    y = input()\n",
    "    cursor.execute('''INSERT INTO EVENT(USERID,EVENTNAME) VALUES (x,y)''')\n",
    "    db.commit()\n"
   ]
  },
  {
   "cell_type": "code",
   "execution_count": 3,
   "metadata": {},
   "outputs": [],
   "source": [
    "#Display time available at a venue   FUNCTION#4\n",
    "def Display_Time():\n",
    "     print('Please enter your desire location:')\n",
    "     x = input()\n",
    "     cursor.execute('''SELECT * FROM EVENT WHERE VENUE=x''')\n",
    "     all = cursor.fetchall()\n",
    "     for pl in all:\n",
    "         print(pl)"
   ]
  },
  {
   "cell_type": "code",
   "execution_count": 4,
   "metadata": {},
   "outputs": [],
   "source": [
    "#Display all venues where a time is available   FUNCTION#5\n",
    "def Display_Venue():\n",
    "     print('Please enter your desire time:')\n",
    "     x = input()\n",
    "     cursor.execute('''SELECT * FROM EVENT WHERE TIME=x''')\n",
    "     all = cursor.fetchall()\n",
    "     for pl in all:\n",
    "         print(pl)"
   ]
  },
  {
   "cell_type": "code",
   "execution_count": 5,
   "metadata": {},
   "outputs": [],
   "source": [
    "#Display events at one venue when date and time are given    FUNCTION#6\n",
    "def Display_EVENT():\n",
    "     print('Please enter your desire date:')\n",
    "     print('Please enter your desire time:')\n",
    "     print('Please enter your desire location:')\n",
    "     x = input()\n",
    "     y = input()\n",
    "     z = input()\n",
    "     cursor.execute('''SELECT * FROM EVENT WHERE DATE=x and TIME=y and LOCATION=z ''')\n",
    "     all = cursor.fetchall()\n",
    "     for pl in all:\n",
    "         print(pl)"
   ]
  },
  {
   "cell_type": "code",
   "execution_count": 6,
   "metadata": {},
   "outputs": [],
   "source": [
    "#Remove an event     FUNCTION#9\n",
    "def REMOVE_EVENT(permit=0):\n",
    "    if(permit)\n",
    "     print('Please enter the event you want to remove:')\n",
    "     x = input()\n",
    "     cursor.execute('''DELETE FROM EVENT WHERE EVENT_ID=x''')"
   ]
  },
  {
   "cell_type": "code",
   "execution_count": null,
   "metadata": {},
   "outputs": [],
   "source": []
  }
 ],
 "metadata": {
  "kernelspec": {
   "display_name": "Python 3",
   "language": "python",
   "name": "python3"
  },
  "language_info": {
   "codemirror_mode": {
    "name": "ipython",
    "version": 3
   },
   "file_extension": ".py",
   "mimetype": "text/x-python",
   "name": "python",
   "nbconvert_exporter": "python",
   "pygments_lexer": "ipython3",
   "version": "3.7.3"
  }
 },
 "nbformat": 4,
 "nbformat_minor": 2
}
