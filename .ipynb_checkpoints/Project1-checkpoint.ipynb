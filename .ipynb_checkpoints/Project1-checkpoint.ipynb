{
 "cells": [
  {
   "cell_type": "code",
   "execution_count": 39,
   "metadata": {},
   "outputs": [],
   "source": [
    "# Import sqlite3 module\n",
    "import sqlite3\n",
    "db=sqlite3.connect(\"/Users/whitthyde/desktop/APAD/Project/sqlite/db/projectdata.db\")\n",
    "cursor = db.cursor()\n",
    "\n",
    "#Create the Tables required for the Event Management System\n",
    "\n",
    "cursor.execute('''DROP TABLE Events''')\n",
    "cursor.execute('''\n",
    "\n",
    "    CREATE TABLE Events(EventID INTEGER PRIMARY KEY,Host TEXT, Name TEXT, Description TEXT, VenueID INTEGER, Day DATE,\n",
    "    Timeslot INTEGER , CurrentUsers INTEGER, MaxUsers INTEGER)\n",
    "    \n",
    "    ''')\n",
    "\n",
    "cursor.execute('''DROP TABLE Users''')\n",
    "cursor.execute('''\n",
    "\n",
    "    CREATE TABLE Users(UserID INTEGER PRIMARY KEY, Name TEXT, Permission BIT)\n",
    "    \n",
    "    ''')\n",
    "\n",
    "cursor.execute('''DROP TABLE Venues''')\n",
    "cursor.execute('''\n",
    "\n",
    "    CREATE TABLE Venues(VenueID INTEGER PRIMARY KEY, Name TEXT)\n",
    "    \n",
    "    ''')\n",
    "db.commit()"
   ]
  },
  {
   "cell_type": "code",
   "execution_count": 40,
   "metadata": {},
   "outputs": [],
   "source": [
    "#Inserting Test Data (Venues First) and other data\n",
    "import datetime\n",
    "vens = [(1,'UT Rec Sports'),\n",
    "          (2, 'SoccerCenter USA'),\n",
    "          (3, 'Yunwei Court'),\n",
    "          (4, 'Whitt Fields'),\n",
    "         ]\n",
    "cursor = db.cursor()\n",
    "cursor.executemany(''' INSERT INTO Venues(VenueID,Name) VALUES(?,?)''', vens)\n",
    "\n",
    "#insert Data Events\n",
    "\n",
    "evnts = [(1,'Chase','Thunder vs. Rockets','Soccer League Match of Austin Elite League', 2, datetime.date(2019, 8,1),2,22,22),\n",
    "         (2,'Whitt','Pickup Basketball (3 on 3)','Anyone welcome. Come play! All skill levels.', 3, datetime.date(2019, 8,5),2,3,6),\n",
    "         (3,'Yunwei','Tennis Doubles','EXPERTS ONLY', 3, datetime.date(2019, 8,1),2,22,22)]\n",
    "cursor.executemany(''' INSERT INTO Events(EventID,Host, Name, Description, VenueID, Day, Timeslot, CurrentUsers, MaxUsers) VALUES(?,?,?,?,?,?,?,?,?)''', evnts)\n",
    "\n",
    "#insert User Data\n",
    "usrs = [(1,'Admin', 1),\n",
    "        (2,'John', 0),\n",
    "        (3,'Chase', 0),\n",
    "        (4,'Whitt', 0),\n",
    "        (5,'Yunwei',1)]\n",
    "cursor.executemany(''' INSERT INTO USERS(UserID, Name, Permission) VALUES(?,?,?)''', usrs)\n",
    "db.commit()\n"
   ]
  },
  {
   "cell_type": "code",
   "execution_count": 15,
   "metadata": {},
   "outputs": [],
   "source": [
    "#Cell for function 2\n",
    "#CHECKED\n",
    "def add_venue(user,venname):\n",
    "    if user==1:\n",
    "        cursor = db.cursor()\n",
    "        #selecting the maxID from the table\n",
    "        cursor.execute(''' SELECT max(VenueID) FROM VENUES''')\n",
    "        maxID = cursor.fetchone() [0]\n",
    "        maxID+=1\n",
    "        cursor.execute(''' INSERT INTO Venues(VenueID,Name) VALUES(?,?)''', (maxID,venname,))\n",
    "        print(\"Your Venue\",venname, \"was created. It is now in the system\")\n",
    "    elif user==0:\n",
    "        print('User is not Authorized to create a new venue.')\n"
   ]
  },
  {
   "cell_type": "code",
   "execution_count": 42,
   "metadata": {},
   "outputs": [
    {
     "name": "stdout",
     "output_type": "stream",
     "text": [
      "Your Venue  SportsWorld5000  was created. It is now in the system\n"
     ]
    }
   ],
   "source": [
    "add_venue(1,\"SportsWorld5000\")\n"
   ]
  },
  {
   "cell_type": "code",
   "execution_count": 55,
   "metadata": {},
   "outputs": [
    {
     "name": "stdout",
     "output_type": "stream",
     "text": [
      "[(1, 'Chase', 'Thunder vs. Rockets', 'Soccer League Match of Austin Elite League', 2, '2019-08-01', 2, 22, 22), (2, 'Whitt', 'Pickup Basketball (3 on 3)', 'Anyone welcome. Come play! All skill levels.', 3, '2019-08-05', 2, 3, 6), (3, 'Yunwei', 'Tennis Doubles', 'EXPERTS ONLY', 3, '2019-08-01', 2, 22, 22), (4, 'Yunwei', 'Programming MeetUp', 'Learn PHP TODAY!', 1, '2020-05-17 00:00:00', 2, 1, 25), (5, 'Whitt', 'Programming MeetUp', 'Learn PHP TODAY!', 1, '2020-09-09', 2, 1, 25)]\n"
     ]
    }
   ],
   "source": [
    "cursor.execute('''SELECT * FROM EVENTS''')\n",
    "p1 = cursor.fetchall() #retrieve the first row\n",
    "print(p1)"
   ]
  },
  {
   "cell_type": "code",
   "execution_count": 36,
   "metadata": {},
   "outputs": [],
   "source": [
    "#The function will add a new user to the database   FUNCTION#1\n",
    "#CHECKED\n",
    "def Add_User(name,userstatus,permit=0):\n",
    "    if permit ==0:\n",
    "    \n",
    "        print('Sorry you have no access to create users.')\n",
    "    \n",
    "    elif permit ==1:\n",
    "          \n",
    "        cursor = db.cursor()\n",
    "        #selecting the maxID from the table\n",
    "        cursor.execute(''' SELECT max(UserID) FROM USERS''')\n",
    "        maxID = cursor.fetchone() [0]\n",
    "        maxID+=1\n",
    "        cursor.execute('''INSERT INTO USERS(USERID,NAME,PERMISSION) VALUES (?,?,?)''',(maxID,name,userstatus))\n",
    "        db.commit()\n",
    "        print(\"The User\",name, \"was created. It is now in the system\")\n",
    "\n"
   ]
  },
  {
   "cell_type": "code",
   "execution_count": 43,
   "metadata": {},
   "outputs": [
    {
     "name": "stdout",
     "output_type": "stream",
     "text": [
      "The User Dr. Y was created. It is now in the system\n"
     ]
    }
   ],
   "source": [
    "Add_User(\"Dr. Y\",0,1)"
   ]
  },
  {
   "cell_type": "code",
   "execution_count": 53,
   "metadata": {},
   "outputs": [],
   "source": [
    "#The function will start a new event to the database   FUNCTION#3\n",
    "#CHECKED\n",
    "\n",
    "\n",
    "\n",
    "def event_init(userstatus,username,evnName,evnDes, evnVID,evnDate,evnTime,evnCurr,evnMax):\n",
    "    if userstatus == 1:\n",
    "        username = input(\"Hello Admin, please enter the User's name that is creating the Event: \")\n",
    "    Start_Event(username,evnName,evnDes, evnVID,evnDate,evnTime,evnCurr,evnMax)\n",
    "\n",
    "\n",
    "\n",
    "#EventID,Name, Description, VenueID, Day, Timeslot, CurrentUsers, MaxUsers\n",
    "def Start_Event(host, name, des,vID, date, time,currU, maxU):\n",
    "    cursor = db.cursor()\n",
    "    cursor.execute('''SELECT name, email FROM players WHERE Day=?''', (date,))\n",
    "    pl = cursor.fetchone()\n",
    "    \n",
    "    if:\n",
    "    \n",
    "    else:\n",
    "    cursor = db.cursor()\n",
    "    #selecting the maxID from the table\n",
    "    cursor.execute(''' SELECT max(EventID) FROM Events''')\n",
    "    maxID = cursor.fetchone() [0]\n",
    "    maxID+=1\n",
    "    cursor.execute('''INSERT INTO Events(EventID,Host,Name, Description, VenueID, Day, Timeslot, CurrentUsers, MaxUsers) VALUES (?,?,?,?,?,?,?,?,?)''',(maxID,host, name, des,vID, date, time,currU, maxU))\n",
    "    db.commit()\n",
    "    print(\"The Event\",name, \"was created.\",host,\"is hosting. It is now in the system\")\n",
    "    \n",
    "    "
   ]
  },
  {
   "cell_type": "code",
   "execution_count": 54,
   "metadata": {},
   "outputs": [
    {
     "name": "stdout",
     "output_type": "stream",
     "text": [
      "The Event Programming MeetUp was created. Whitt is hosting. It is now in the system\n"
     ]
    }
   ],
   "source": [
    "event_init(0,\"Whitt\",\"Programming MeetUp\",\"Learn PHP TODAY!\",1,datetime.date(2020, 9, 9),2,1,25)"
   ]
  },
  {
   "cell_type": "code",
   "execution_count": 3,
   "metadata": {},
   "outputs": [],
   "source": [
    "#Display time available at a venue   FUNCTION#4\n",
    "def Display_Time(vue):\n",
    "     cursor.execute('''SELECT * FROM EVENT WHERE VENUE=vue''')\n",
    "     all = cursor.fetchall()\n",
    "     for pl in all:\n",
    "         print(pl)"
   ]
  },
  {
   "cell_type": "code",
   "execution_count": 4,
   "metadata": {},
   "outputs": [],
   "source": [
    "#Display all venues where a time is available   FUNCTION#5\n",
    "def Display_Venue():\n",
    "     print('Please enter your desire time:')\n",
    "     x = input()\n",
    "     cursor.execute('''SELECT * FROM EVENT WHERE TIME=x''')\n",
    "     all = cursor.fetchall()\n",
    "     for pl in all:\n",
    "         print(pl)"
   ]
  },
  {
   "cell_type": "code",
   "execution_count": 5,
   "metadata": {},
   "outputs": [],
   "source": [
    "#Display events at one venue when date and time are given    FUNCTION#6\n",
    "def Display_EVENT(day,time,vue):\n",
    "     cursor.execute('''SELECT * FROM EVENT WHERE DATE=day and TIME=time and LOCATION=vue ''')\n",
    "     all = cursor.fetchall()\n",
    "     for pl in all:\n",
    "         print(pl)"
   ]
  },
  {
   "cell_type": "code",
   "execution_count": 6,
   "metadata": {},
   "outputs": [],
   "source": [
    "#Remove an event     FUNCTION#9\n",
    "def REMOVE_EVENT(eid, permit=0):\n",
    "    if(permit==0)\n",
    "     print('Sorry you have no access')\n",
    "    }\n",
    "    elif (permit ==1){\n",
    "       cursor.execute('''DELETE FROM EVENT WHERE EVENT_ID=eid''')\n",
    "         db.commit()\n",
    "    }\n",
    "    "
   ]
  },
  {
   "cell_type": "code",
   "execution_count": null,
   "metadata": {},
   "outputs": [],
   "source": []
  }
 ],
 "metadata": {
  "kernelspec": {
   "display_name": "Python 3",
   "language": "python",
   "name": "python3"
  },
  "language_info": {
   "codemirror_mode": {
    "name": "ipython",
    "version": 3
   },
   "file_extension": ".py",
   "mimetype": "text/x-python",
   "name": "python",
   "nbconvert_exporter": "python",
   "pygments_lexer": "ipython3",
   "version": "3.7.3"
  }
 },
 "nbformat": 4,
 "nbformat_minor": 2
}
